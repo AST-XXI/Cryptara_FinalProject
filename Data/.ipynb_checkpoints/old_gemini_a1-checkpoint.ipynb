{
 "cells": [
  {
   "cell_type": "code",
   "execution_count": 1,
   "id": "c7ccd27a-3820-4db1-be2c-dd1cebdc7f48",
   "metadata": {},
   "outputs": [
    {
     "name": "stderr",
     "output_type": "stream",
     "text": [
      "DEBUG:tvDatafeed.main:auth loaded\n"
     ]
    },
    {
     "name": "stdout",
     "output_type": "stream",
     "text": [
      "There are no strong buys\n"
     ]
    }
   ],
   "source": [
    "from ipynb.fs.full.admin import *\n",
    "import pandas as pd\n",
    "from pathlib import Path\n",
    "screener=\"CRYPTO\"\n",
    "exchange=\"GEMINI\"\n",
    "\n",
    "strong_performers_path = Path(\"Data_files/output/strong_buy_gemini.csv\")\n",
    "try:\n",
    "    strong_performers= pd.read_csv(strong_performers_path, header=None)\n",
    "except ValueError:\n",
    "    strong_performers=pd.DataFrame\n",
    "    print('There are no strong buys')\n",
    "try:\n",
    "    strong_performers.set_index = None\n",
    "except ValueError:\n",
    "    pass\n",
    "\n",
    "weak_performers_path = Path(\"Data_files/output/strong_sell_gemini.csv\")\n",
    "try:\n",
    "    weak_performers= pd.read_csv(weak_performers_path, header=None)\n",
    "except ValueError:\n",
    "    weak_performers=pd.DataFrame\n",
    "    print('There are no strong sells')\n",
    "try:\n",
    "    weak_performers.set_index = None\n",
    "except ValueError:\n",
    "    pass\n"
   ]
  },
  {
   "cell_type": "code",
   "execution_count": 2,
   "id": "a4148409-ace7-4576-8ecc-c36d5984ec3f",
   "metadata": {
    "tags": []
   },
   "outputs": [
    {
     "ename": "TypeError",
     "evalue": "'type' object is not subscriptable",
     "output_type": "error",
     "traceback": [
      "\u001b[1;31m---------------------------------------------------------------------------\u001b[0m",
      "\u001b[1;31mTypeError\u001b[0m                                 Traceback (most recent call last)",
      "\u001b[1;32m~\\AppData\\Local\\Temp/ipykernel_12908/3511966627.py\u001b[0m in \u001b[0;36m<module>\u001b[1;34m\u001b[0m\n\u001b[0;32m      1\u001b[0m \u001b[0mstaging_df\u001b[0m \u001b[1;33m=\u001b[0m \u001b[0mpd\u001b[0m\u001b[1;33m.\u001b[0m\u001b[0mDataFrame\u001b[0m\u001b[1;33m(\u001b[0m\u001b[1;33m)\u001b[0m\u001b[1;33m\u001b[0m\u001b[1;33m\u001b[0m\u001b[0m\n\u001b[0;32m      2\u001b[0m \u001b[0mstrong_buy_indicator_data\u001b[0m \u001b[1;33m=\u001b[0m \u001b[0mpd\u001b[0m\u001b[1;33m.\u001b[0m\u001b[0mDataFrame\u001b[0m\u001b[1;33m(\u001b[0m\u001b[1;33m)\u001b[0m\u001b[1;33m\u001b[0m\u001b[1;33m\u001b[0m\u001b[0m\n\u001b[1;32m----> 3\u001b[1;33m \u001b[1;32mfor\u001b[0m \u001b[0mticker\u001b[0m \u001b[1;32min\u001b[0m \u001b[0mstrong_performers\u001b[0m\u001b[1;33m[\u001b[0m\u001b[1;36m0\u001b[0m\u001b[1;33m]\u001b[0m\u001b[1;33m:\u001b[0m\u001b[1;33m\u001b[0m\u001b[1;33m\u001b[0m\u001b[0m\n\u001b[0m\u001b[0;32m      4\u001b[0m     \u001b[1;32mtry\u001b[0m\u001b[1;33m:\u001b[0m\u001b[1;33m\u001b[0m\u001b[1;33m\u001b[0m\u001b[0m\n\u001b[0;32m      5\u001b[0m         data = (TA_Handler(symbol=ticker,screener=screener,\n",
      "\u001b[1;31mTypeError\u001b[0m: 'type' object is not subscriptable"
     ]
    }
   ],
   "source": [
    "staging_df = pd.DataFrame()\n",
    "strong_buy_indicator_data = pd.DataFrame()\n",
    "for ticker in strong_performers[0]:\n",
    "    try:\n",
    "        data = (TA_Handler(symbol=ticker,screener=screener,\n",
    "                           exchange=exchange,interval=Interval.INTERVAL_1_DAY ).get_analysis().indicators)\n",
    "        symbol = ticker\n",
    "        staging_df = list(data.values())\n",
    "        final_df = (pd.DataFrame((data), index={ticker}))\n",
    "        strong_buy_indicator_data = strong_buy_indicator_data.append(final_df)\n",
    "    except:\n",
    "        pass\n",
    "\n",
    "strong_buy_indicator_data.to_csv('Data_files/output/strong_buy_indicator_data.csv')\n",
    "strong_buy_indicator_data.head(5)"
   ]
  },
  {
   "cell_type": "code",
   "execution_count": null,
   "id": "20301f2b-9843-4df4-b9eb-93336e8e4384",
   "metadata": {},
   "outputs": [],
   "source": [
    "staging_df = pd.DataFrame()\n",
    "strong_sell_indicator_data = pd.DataFrame()\n",
    "for ticker in weak_performers[0]:\n",
    "    try:\n",
    "        data = (TA_Handler(symbol=ticker,screener=screener,\n",
    "                           exchange=exchange,interval=Interval.INTERVAL_1_DAY ).get_analysis().indicators)\n",
    "        symbol = ticker\n",
    "        staging_df = list(data.values())\n",
    "        final_df = (pd.DataFrame((data), index={ticker}))\n",
    "        strong_sell_indicator_data = strong_sell_indicator_data.append(final_df)\n",
    "    except:\n",
    "        pass\n",
    "\n",
    "strong_sell_indicator_data.to_csv('Data_files/output/strong_sell_gemini.csv')\n",
    "strong_sell_indicator_data.head(5)"
   ]
  },
  {
   "cell_type": "code",
   "execution_count": null,
   "id": "82e47090-12f1-42b6-974e-e34b275f3422",
   "metadata": {},
   "outputs": [],
   "source": []
  }
 ],
 "metadata": {
  "kernelspec": {
   "display_name": "Python 3 (ipykernel)",
   "language": "python",
   "name": "python3"
  },
  "language_info": {
   "codemirror_mode": {
    "name": "ipython",
    "version": 3
   },
   "file_extension": ".py",
   "mimetype": "text/x-python",
   "name": "python",
   "nbconvert_exporter": "python",
   "pygments_lexer": "ipython3",
   "version": "3.9.6"
  }
 },
 "nbformat": 4,
 "nbformat_minor": 5
}
